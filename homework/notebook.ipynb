{
 "cells": [
  {
   "cell_type": "code",
   "execution_count": 1,
   "metadata": {},
   "outputs": [],
   "source": [
    "#\n",
    "# Carga de datos\n",
    "# Principales acciones entre 2003 y 2008\n",
    "#\n",
    "import glob\n",
    "\n",
    "import pandas as pd  # type: ignore\n",
    "\n",
    "files = glob.glob(\"../files/input/*.csv.zip\")\n",
    "\n",
    "quotes = []\n",
    "for file in files:\n",
    "    quotes.append(pd.read_csv(file, compression=\"zip\"))\n",
    "\n",
    "    \n",
    "    \n",
    "    \n"
   ]
  },
  {
   "cell_type": "code",
   "execution_count": null,
   "metadata": {},
   "outputs": [],
   "source": [
    "#\n",
    "# Calculo de las variaciones diarias\n",
    "#\n",
    "import numpy as np  # type: ignore\n",
    "\n",
    "close_prices = np.vstack([q[\"close\"] for q in quotes])\n",
    "open_prices = np.vstack([q[\"open\"] for q in quotes])\n",
    "variation = close_prices - open_prices"
   ]
  },
  {
   "cell_type": "code",
   "execution_count": null,
   "metadata": {},
   "outputs": [],
   "source": [
    "#\n",
    "# Aprendizaje de la estructura gráfica\n",
    "#\n",
    "from sklearn import covariance\n",
    "\n",
    "alphas = np.logspace(-1.5, 1, num=10)\n",
    "edge_model = covariance.GraphicalLassoCV(alphas=alphas)\n",
    "\n",
    "# Usa la correlación en lugar de la covarianza\n",
    "X = variation.copy().T\n",
    "X /= X.std(axis=0)\n",
    "edge_model.fit(X)\n",
    "\n"
   ]
  }
 ],
 "metadata": {
  "kernelspec": {
   "display_name": ".venv",
   "language": "python",
   "name": "python3"
  },
  "language_info": {
   "codemirror_mode": {
    "name": "ipython",
    "version": 3
   },
   "file_extension": ".py",
   "mimetype": "text/x-python",
   "name": "python",
   "nbconvert_exporter": "python",
   "pygments_lexer": "ipython3",
   "version": "3.10.2"
  }
 },
 "nbformat": 4,
 "nbformat_minor": 2
}
